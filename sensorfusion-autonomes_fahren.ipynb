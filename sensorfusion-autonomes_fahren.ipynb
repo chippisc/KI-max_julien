{
 "cells": [
  {
   "cell_type": "markdown",
   "id": "5a9aefa0",
   "metadata": {},
   "source": [
    "# Sensorfusion - Autonomes Fahren\n"
   ]
  },
  {
   "cell_type": "code",
   "execution_count": 277,
   "id": "1695df57",
   "metadata": {},
   "outputs": [],
   "source": [
    "# Imports\n",
    "import pandas as pd\n",
    "import numpy as np\n",
    "from pyds import MassFunction\n"
   ]
  },
  {
   "cell_type": "code",
   "execution_count": 278,
   "id": "04bce273",
   "metadata": {},
   "outputs": [],
   "source": [
    "data=pd.read_csv(\"DPE16_1.csv\", sep=';', decimal=\",\")"
   ]
  },
  {
   "cell_type": "code",
   "execution_count": null,
   "id": "1b427ded",
   "metadata": {},
   "outputs": [],
   "source": []
  },
  {
   "cell_type": "code",
   "execution_count": 279,
   "id": "16041c8f",
   "metadata": {},
   "outputs": [
    {
     "data": {
      "text/html": [
       "<div>\n",
       "<style scoped>\n",
       "    .dataframe tbody tr th:only-of-type {\n",
       "        vertical-align: middle;\n",
       "    }\n",
       "\n",
       "    .dataframe tbody tr th {\n",
       "        vertical-align: top;\n",
       "    }\n",
       "\n",
       "    .dataframe thead th {\n",
       "        text-align: right;\n",
       "    }\n",
       "</style>\n",
       "<table border=\"1\" class=\"dataframe\">\n",
       "  <thead>\n",
       "    <tr style=\"text-align: right;\">\n",
       "      <th></th>\n",
       "      <th>t</th>\n",
       "      <th>Eigengeschwindigkeit(m/s)</th>\n",
       "      <th>Bbox_Breite</th>\n",
       "      <th>Bbox_Hoehe</th>\n",
       "      <th>Bbox_links_unten_y</th>\n",
       "      <th>Abstand(m)</th>\n",
       "    </tr>\n",
       "  </thead>\n",
       "  <tbody>\n",
       "    <tr>\n",
       "      <th>0</th>\n",
       "      <td>0.0</td>\n",
       "      <td>22.0</td>\n",
       "      <td>90</td>\n",
       "      <td>99</td>\n",
       "      <td>153</td>\n",
       "      <td>76.5</td>\n",
       "    </tr>\n",
       "    <tr>\n",
       "      <th>1</th>\n",
       "      <td>0.1</td>\n",
       "      <td>22.2</td>\n",
       "      <td>90</td>\n",
       "      <td>100</td>\n",
       "      <td>154</td>\n",
       "      <td>NaN</td>\n",
       "    </tr>\n",
       "    <tr>\n",
       "      <th>2</th>\n",
       "      <td>0.2</td>\n",
       "      <td>22.2</td>\n",
       "      <td>86</td>\n",
       "      <td>95</td>\n",
       "      <td>154</td>\n",
       "      <td>77.0</td>\n",
       "    </tr>\n",
       "    <tr>\n",
       "      <th>3</th>\n",
       "      <td>0.3</td>\n",
       "      <td>22.1</td>\n",
       "      <td>90</td>\n",
       "      <td>100</td>\n",
       "      <td>153</td>\n",
       "      <td>76.5</td>\n",
       "    </tr>\n",
       "    <tr>\n",
       "      <th>4</th>\n",
       "      <td>0.4</td>\n",
       "      <td>22.1</td>\n",
       "      <td>90</td>\n",
       "      <td>100</td>\n",
       "      <td>153</td>\n",
       "      <td>76.5</td>\n",
       "    </tr>\n",
       "  </tbody>\n",
       "</table>\n",
       "</div>"
      ],
      "text/plain": [
       "     t  Eigengeschwindigkeit(m/s)  Bbox_Breite  Bbox_Hoehe  \\\n",
       "0  0.0                       22.0           90          99   \n",
       "1  0.1                       22.2           90         100   \n",
       "2  0.2                       22.2           86          95   \n",
       "3  0.3                       22.1           90         100   \n",
       "4  0.4                       22.1           90         100   \n",
       "\n",
       "   Bbox_links_unten_y  Abstand(m)  \n",
       "0                 153        76.5  \n",
       "1                 154         NaN  \n",
       "2                 154        77.0  \n",
       "3                 153        76.5  \n",
       "4                 153        76.5  "
      ]
     },
     "execution_count": 279,
     "metadata": {},
     "output_type": "execute_result"
    }
   ],
   "source": [
    "data.head()"
   ]
  },
  {
   "cell_type": "markdown",
   "id": "5382e65a",
   "metadata": {},
   "source": [
    "# Notizen\n",
    "Jede Zeile entspricht Messung.\n",
    "Verhältnis Breite/Höhe durch BBox-Werte.\n",
    "Geschwindigkeit nur über Zeit (min Anzahl an Messwerten?) durch Abstand Differenz - Eigengeschwindigkeit\n",
    "Beschleunigung über Zeit (sobald 2 Werte für Geschwindigkeit vorhanden: GeschwindigkeitNeu - GeschwindigkeitAlt\n",
    "\n",
    "Konfidenz höher, je kleiner der Abstand\n",
    "Omega: 1 - Konfidenz\n",
    "omega: P L M F\n",
    "\n"
   ]
  },
  {
   "cell_type": "code",
   "execution_count": 280,
   "id": "bfc8e4d7",
   "metadata": {},
   "outputs": [],
   "source": [
    "omega = 'plmf'\n",
    "#Save speed of previous measurement\n",
    "oldSpeedSaved = None\n",
    "newSpeedSaved = None\n"
   ]
  },
  {
   "cell_type": "code",
   "execution_count": 281,
   "id": "7a87875f",
   "metadata": {},
   "outputs": [
    {
     "name": "stdout",
     "output_type": "stream",
     "text": [
      "17.15\n",
      "22.1\n",
      "New Distance is NaN\n",
      "Do not evaluate speed due to measurement error\n",
      "Keine Daten zur Beschleunigung vorhanden\n",
      "0\n"
     ]
    }
   ],
   "source": [
    "# Higher value means bycicle or motorbike\n",
    "# lower value means car\n",
    "# not in the task but we think equal ratios should increase the probability for truck\n",
    "# values around 1 mean truck\n",
    "def calcBoundingRatio(height, width):\n",
    "    ratio = height / width\n",
    "    \n",
    "    return ratio\n",
    "    \n",
    "    \n",
    "# Manage saved values of speed to calculate acceleration\n",
    "def saveSpeed(speed):\n",
    "    global newSpeedSaved\n",
    "    global oldSpeedSaved\n",
    "    if (newSpeedSaved):\n",
    "        oldSpeedSaved = newSpeedSaved\n",
    "    newSpeedSaved = speed\n",
    "    \n",
    "#calculate speed\n",
    "def calcSpeed(oldOwnSpeed, newOwnSpeed, oldDistance, newDistance):\n",
    "    global newSpeedSaved\n",
    "    # Check if there are null values for distance\n",
    "    if (pd.isna(newDistance)):\n",
    "        print('New Distance is NaN')\n",
    "        print('Do not evaluate speed due to measurement error')\n",
    "        newSpeedSaved = None\n",
    "        \n",
    "        return\n",
    "    \n",
    "    difDistance = newDistance - oldDistance\n",
    "    #Use average speed because old and new speed can be slightly different\n",
    "    ownSpeed = (oldOwnSpeed + newOwnSpeed) / 2\n",
    "    speed = difDistance / 0.1 + ownSpeed\n",
    "    saveSpeed(speed)\n",
    "    \n",
    "    return speed\n",
    "    \n",
    "# calculate acceleration with formula: dif speed / dif time\n",
    "def calcAcceleration():\n",
    "    global newSpeedSaved\n",
    "    global oldSpeedSaved\n",
    "    #Catch oldSpeed null for first measurement\n",
    "    if ((oldSpeedSaved == None) | (newSpeedSaved == None)):\n",
    "    #if (newSpeedSaved == None):\n",
    "        print('Keine Daten zur Beschleunigung vorhanden')\n",
    "        # Return 0 by guessing, two measurements are required.\n",
    "        # No problem because acceleration will only have effect if it is high\n",
    "        return 0\n",
    "    speedDif = newSpeedSaved - oldSpeedSaved\n",
    "    acc = speedDif / 0.1\n",
    "    \n",
    "    return acc\n",
    "    \n",
    "#def calcMasses(oldMeasurement, newMeasurement):\n",
    "    # Call other calcs\n",
    "    \n",
    "testspd1 = calcSpeed(22.2, 22.1, 77.0, 76.5)\n",
    "print(testspd1)\n",
    "testspd2 = calcSpeed(22.1, 22.1, 76.5, 76.5)\n",
    "print(testspd2)\n",
    "testspd3 = calcSpeed(22.1, 22.1, 76.5, np.nan)\n",
    "#testspd4 = calcSpeed(22.1, 22.1, 76.5, 76.5)\n",
    "\n",
    "\n",
    "\n",
    "testacc = calcAcceleration()\n",
    "print(testacc)"
   ]
  },
  {
   "cell_type": "code",
   "execution_count": 282,
   "id": "8dd094df",
   "metadata": {},
   "outputs": [
    {
     "ename": "IndentationError",
     "evalue": "expected an indented block (4266894903.py, line 3)",
     "output_type": "error",
     "traceback": [
      "\u001b[0;36m  File \u001b[0;32m\"/tmp/ipykernel_51532/4266894903.py\"\u001b[0;36m, line \u001b[0;32m3\u001b[0m\n\u001b[0;31m    \u001b[0m\n\u001b[0m    ^\u001b[0m\n\u001b[0;31mIndentationError\u001b[0m\u001b[0;31m:\u001b[0m expected an indented block\n"
     ]
    }
   ],
   "source": [
    "#def iterateMeasurement():\n",
    "    \n",
    "    "
   ]
  }
 ],
 "metadata": {
  "kernelspec": {
   "display_name": "Python 3 (ipykernel)",
   "language": "python",
   "name": "python3"
  },
  "language_info": {
   "codemirror_mode": {
    "name": "ipython",
    "version": 3
   },
   "file_extension": ".py",
   "mimetype": "text/x-python",
   "name": "python",
   "nbconvert_exporter": "python",
   "pygments_lexer": "ipython3",
   "version": "3.9.9"
  }
 },
 "nbformat": 4,
 "nbformat_minor": 5
}
