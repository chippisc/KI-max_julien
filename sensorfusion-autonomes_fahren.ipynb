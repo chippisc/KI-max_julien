{
 "cells": [
  {
   "cell_type": "markdown",
   "id": "5a9aefa0",
   "metadata": {},
   "source": [
    "# Sensorfusion - Autonomes Fahren\n"
   ]
  },
  {
   "cell_type": "code",
   "execution_count": 15,
   "id": "1695df57",
   "metadata": {},
   "outputs": [],
   "source": [
    "# Imports\n",
    "import pandas as pd\n",
    "from pyds import MassFunction\n"
   ]
  },
  {
   "cell_type": "code",
   "execution_count": 16,
   "id": "04bce273",
   "metadata": {},
   "outputs": [],
   "source": [
    "data=pd.read_csv(\"DPE16_1.csv\", sep=';', decimal=\",\")"
   ]
  },
  {
   "cell_type": "code",
   "execution_count": null,
   "id": "4740bbad",
   "metadata": {},
   "outputs": [],
   "source": []
  },
  {
   "cell_type": "code",
   "execution_count": 17,
   "id": "16041c8f",
   "metadata": {},
   "outputs": [
    {
     "data": {
      "text/html": [
       "<div>\n",
       "<style scoped>\n",
       "    .dataframe tbody tr th:only-of-type {\n",
       "        vertical-align: middle;\n",
       "    }\n",
       "\n",
       "    .dataframe tbody tr th {\n",
       "        vertical-align: top;\n",
       "    }\n",
       "\n",
       "    .dataframe thead th {\n",
       "        text-align: right;\n",
       "    }\n",
       "</style>\n",
       "<table border=\"1\" class=\"dataframe\">\n",
       "  <thead>\n",
       "    <tr style=\"text-align: right;\">\n",
       "      <th></th>\n",
       "      <th>t</th>\n",
       "      <th>Eigengeschwindigkeit(m/s)</th>\n",
       "      <th>Bbox_Breite</th>\n",
       "      <th>Bbox_Hoehe</th>\n",
       "      <th>Bbox_links_unten_y</th>\n",
       "      <th>Abstand(m)</th>\n",
       "    </tr>\n",
       "  </thead>\n",
       "  <tbody>\n",
       "    <tr>\n",
       "      <th>0</th>\n",
       "      <td>0.0</td>\n",
       "      <td>22.0</td>\n",
       "      <td>90</td>\n",
       "      <td>99</td>\n",
       "      <td>153</td>\n",
       "      <td>76.5</td>\n",
       "    </tr>\n",
       "    <tr>\n",
       "      <th>1</th>\n",
       "      <td>0.1</td>\n",
       "      <td>22.2</td>\n",
       "      <td>90</td>\n",
       "      <td>100</td>\n",
       "      <td>154</td>\n",
       "      <td>NaN</td>\n",
       "    </tr>\n",
       "    <tr>\n",
       "      <th>2</th>\n",
       "      <td>0.2</td>\n",
       "      <td>22.2</td>\n",
       "      <td>86</td>\n",
       "      <td>95</td>\n",
       "      <td>154</td>\n",
       "      <td>77.0</td>\n",
       "    </tr>\n",
       "    <tr>\n",
       "      <th>3</th>\n",
       "      <td>0.3</td>\n",
       "      <td>22.1</td>\n",
       "      <td>90</td>\n",
       "      <td>100</td>\n",
       "      <td>153</td>\n",
       "      <td>76.5</td>\n",
       "    </tr>\n",
       "    <tr>\n",
       "      <th>4</th>\n",
       "      <td>0.4</td>\n",
       "      <td>22.1</td>\n",
       "      <td>90</td>\n",
       "      <td>100</td>\n",
       "      <td>153</td>\n",
       "      <td>76.5</td>\n",
       "    </tr>\n",
       "  </tbody>\n",
       "</table>\n",
       "</div>"
      ],
      "text/plain": [
       "     t  Eigengeschwindigkeit(m/s)  Bbox_Breite  Bbox_Hoehe  \\\n",
       "0  0.0                       22.0           90          99   \n",
       "1  0.1                       22.2           90         100   \n",
       "2  0.2                       22.2           86          95   \n",
       "3  0.3                       22.1           90         100   \n",
       "4  0.4                       22.1           90         100   \n",
       "\n",
       "   Bbox_links_unten_y  Abstand(m)  \n",
       "0                 153        76.5  \n",
       "1                 154         NaN  \n",
       "2                 154        77.0  \n",
       "3                 153        76.5  \n",
       "4                 153        76.5  "
      ]
     },
     "execution_count": 17,
     "metadata": {},
     "output_type": "execute_result"
    }
   ],
   "source": [
    "data.head()"
   ]
  },
  {
   "cell_type": "code",
   "execution_count": null,
   "id": "93b8d070",
   "metadata": {},
   "outputs": [],
   "source": []
  }
 ],
 "metadata": {
  "kernelspec": {
   "display_name": "Python 3 (ipykernel)",
   "language": "python",
   "name": "python3"
  },
  "language_info": {
   "codemirror_mode": {
    "name": "ipython",
    "version": 3
   },
   "file_extension": ".py",
   "mimetype": "text/x-python",
   "name": "python",
   "nbconvert_exporter": "python",
   "pygments_lexer": "ipython3",
   "version": "3.9.9"
  }
 },
 "nbformat": 4,
 "nbformat_minor": 5
}
